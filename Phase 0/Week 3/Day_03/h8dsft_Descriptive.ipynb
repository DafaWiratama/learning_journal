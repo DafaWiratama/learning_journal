{
 "cells": [
  {
   "cell_type": "markdown",
   "metadata": {},
   "source": [
    "1. Cari Measure of Central Tendency dari data tersebut.\n",
    "2. Cari Measure of Variance dari data tersebut."
   ]
  },
  {
   "cell_type": "markdown",
   "metadata": {},
   "source": [
    "# MEasure of Central Tendency"
   ]
  },
  {
   "cell_type": "code",
   "execution_count": 1,
   "metadata": {},
   "outputs": [],
   "source": [
    "import pandas as pd"
   ]
  },
  {
   "cell_type": "code",
   "execution_count": 2,
   "metadata": {},
   "outputs": [
    {
     "data": {
      "text/plain": "       Date Location ISO Code     Location  New Cases  New Deaths  \\\n0  3/1/2020             ID-JK  DKI Jakarta          2           0   \n1  3/2/2020             ID-JK  DKI Jakarta          2           0   \n2  3/2/2020               IDN    Indonesia          2           0   \n3  3/2/2020             ID-RI         Riau          1           0   \n4  3/3/2020             ID-JK  DKI Jakarta          2           0   \n\n   New Recovered  New Active Cases  Total Cases  Total Deaths  \\\n0              0                 2           39            20   \n1              0                 2           41            20   \n2              0                 2            2             0   \n3              0                 1            2             0   \n4              0                 2           43            20   \n\n   Total Recovered  ...  Latitude New Cases per Million  \\\n0               41  ... -6.204699                  0.18   \n1               41  ... -6.204699                  0.18   \n2                0  ... -0.789275                  0.01   \n3                3  ...  0.511648                  0.16   \n4               41  ... -6.204699                  0.18   \n\n   Total Cases per Million New Deaths per Million Total Deaths per Million  \\\n0                     3.60                    0.0                     1.84   \n1                     3.78                    0.0                     1.84   \n2                     0.01                    0.0                     0.00   \n3                     0.33                    0.0                     0.00   \n4                     3.96                    0.0                     1.84   \n\n  Total Deaths per 100rb Case Fatality Rate Case Recovered Rate  \\\n0                   0.18             51.28%             105.13%   \n1                   0.18             48.78%             100.00%   \n2                   0.00              0.00%               0.00%   \n3                   0.00              0.00%             150.00%   \n4                   0.18             46.51%              95.35%   \n\n  Growth Factor of New Cases  Growth Factor of New Deaths  \n0                        NaN                          NaN  \n1                        1.0                          1.0  \n2                        NaN                          NaN  \n3                        NaN                          NaN  \n4                        1.0                          1.0  \n\n[5 rows x 38 columns]",
      "text/html": "<div>\n<style scoped>\n    .dataframe tbody tr th:only-of-type {\n        vertical-align: middle;\n    }\n\n    .dataframe tbody tr th {\n        vertical-align: top;\n    }\n\n    .dataframe thead th {\n        text-align: right;\n    }\n</style>\n<table border=\"1\" class=\"dataframe\">\n  <thead>\n    <tr style=\"text-align: right;\">\n      <th></th>\n      <th>Date</th>\n      <th>Location ISO Code</th>\n      <th>Location</th>\n      <th>New Cases</th>\n      <th>New Deaths</th>\n      <th>New Recovered</th>\n      <th>New Active Cases</th>\n      <th>Total Cases</th>\n      <th>Total Deaths</th>\n      <th>Total Recovered</th>\n      <th>...</th>\n      <th>Latitude</th>\n      <th>New Cases per Million</th>\n      <th>Total Cases per Million</th>\n      <th>New Deaths per Million</th>\n      <th>Total Deaths per Million</th>\n      <th>Total Deaths per 100rb</th>\n      <th>Case Fatality Rate</th>\n      <th>Case Recovered Rate</th>\n      <th>Growth Factor of New Cases</th>\n      <th>Growth Factor of New Deaths</th>\n    </tr>\n  </thead>\n  <tbody>\n    <tr>\n      <th>0</th>\n      <td>3/1/2020</td>\n      <td>ID-JK</td>\n      <td>DKI Jakarta</td>\n      <td>2</td>\n      <td>0</td>\n      <td>0</td>\n      <td>2</td>\n      <td>39</td>\n      <td>20</td>\n      <td>41</td>\n      <td>...</td>\n      <td>-6.204699</td>\n      <td>0.18</td>\n      <td>3.60</td>\n      <td>0.0</td>\n      <td>1.84</td>\n      <td>0.18</td>\n      <td>51.28%</td>\n      <td>105.13%</td>\n      <td>NaN</td>\n      <td>NaN</td>\n    </tr>\n    <tr>\n      <th>1</th>\n      <td>3/2/2020</td>\n      <td>ID-JK</td>\n      <td>DKI Jakarta</td>\n      <td>2</td>\n      <td>0</td>\n      <td>0</td>\n      <td>2</td>\n      <td>41</td>\n      <td>20</td>\n      <td>41</td>\n      <td>...</td>\n      <td>-6.204699</td>\n      <td>0.18</td>\n      <td>3.78</td>\n      <td>0.0</td>\n      <td>1.84</td>\n      <td>0.18</td>\n      <td>48.78%</td>\n      <td>100.00%</td>\n      <td>1.0</td>\n      <td>1.0</td>\n    </tr>\n    <tr>\n      <th>2</th>\n      <td>3/2/2020</td>\n      <td>IDN</td>\n      <td>Indonesia</td>\n      <td>2</td>\n      <td>0</td>\n      <td>0</td>\n      <td>2</td>\n      <td>2</td>\n      <td>0</td>\n      <td>0</td>\n      <td>...</td>\n      <td>-0.789275</td>\n      <td>0.01</td>\n      <td>0.01</td>\n      <td>0.0</td>\n      <td>0.00</td>\n      <td>0.00</td>\n      <td>0.00%</td>\n      <td>0.00%</td>\n      <td>NaN</td>\n      <td>NaN</td>\n    </tr>\n    <tr>\n      <th>3</th>\n      <td>3/2/2020</td>\n      <td>ID-RI</td>\n      <td>Riau</td>\n      <td>1</td>\n      <td>0</td>\n      <td>0</td>\n      <td>1</td>\n      <td>2</td>\n      <td>0</td>\n      <td>3</td>\n      <td>...</td>\n      <td>0.511648</td>\n      <td>0.16</td>\n      <td>0.33</td>\n      <td>0.0</td>\n      <td>0.00</td>\n      <td>0.00</td>\n      <td>0.00%</td>\n      <td>150.00%</td>\n      <td>NaN</td>\n      <td>NaN</td>\n    </tr>\n    <tr>\n      <th>4</th>\n      <td>3/3/2020</td>\n      <td>ID-JK</td>\n      <td>DKI Jakarta</td>\n      <td>2</td>\n      <td>0</td>\n      <td>0</td>\n      <td>2</td>\n      <td>43</td>\n      <td>20</td>\n      <td>41</td>\n      <td>...</td>\n      <td>-6.204699</td>\n      <td>0.18</td>\n      <td>3.96</td>\n      <td>0.0</td>\n      <td>1.84</td>\n      <td>0.18</td>\n      <td>46.51%</td>\n      <td>95.35%</td>\n      <td>1.0</td>\n      <td>1.0</td>\n    </tr>\n  </tbody>\n</table>\n<p>5 rows × 38 columns</p>\n</div>"
     },
     "execution_count": 2,
     "metadata": {},
     "output_type": "execute_result"
    }
   ],
   "source": [
    "data = pd.read_csv('covid_19_indonesia_time_series_all.csv')\n",
    "data.head(5)"
   ]
  },
  {
   "cell_type": "markdown",
   "metadata": {},
   "source": [
    "Dalma mencari central tendency, perlu tau mean dan median"
   ]
  },
  {
   "cell_type": "markdown",
   "metadata": {},
   "source": [
    "misalkan sekarang maunya cek total recovered sama location aja"
   ]
  },
  {
   "cell_type": "code",
   "execution_count": 3,
   "metadata": {},
   "outputs": [
    {
     "data": {
      "text/plain": "               Location  Total Recovered\n0           DKI Jakarta               41\n1           DKI Jakarta               41\n2             Indonesia                0\n3                  Riau                3\n4           DKI Jakarta               41\n...                 ...              ...\n21754    Sulawesi Utara            33566\n21755    Sumatera Barat            87605\n21756  Sumatera Selatan            56830\n21757    Sumatera Utara           103061\n21758         Indonesia          4105680\n\n[21759 rows x 2 columns]",
      "text/html": "<div>\n<style scoped>\n    .dataframe tbody tr th:only-of-type {\n        vertical-align: middle;\n    }\n\n    .dataframe tbody tr th {\n        vertical-align: top;\n    }\n\n    .dataframe thead th {\n        text-align: right;\n    }\n</style>\n<table border=\"1\" class=\"dataframe\">\n  <thead>\n    <tr style=\"text-align: right;\">\n      <th></th>\n      <th>Location</th>\n      <th>Total Recovered</th>\n    </tr>\n  </thead>\n  <tbody>\n    <tr>\n      <th>0</th>\n      <td>DKI Jakarta</td>\n      <td>41</td>\n    </tr>\n    <tr>\n      <th>1</th>\n      <td>DKI Jakarta</td>\n      <td>41</td>\n    </tr>\n    <tr>\n      <th>2</th>\n      <td>Indonesia</td>\n      <td>0</td>\n    </tr>\n    <tr>\n      <th>3</th>\n      <td>Riau</td>\n      <td>3</td>\n    </tr>\n    <tr>\n      <th>4</th>\n      <td>DKI Jakarta</td>\n      <td>41</td>\n    </tr>\n    <tr>\n      <th>...</th>\n      <td>...</td>\n      <td>...</td>\n    </tr>\n    <tr>\n      <th>21754</th>\n      <td>Sulawesi Utara</td>\n      <td>33566</td>\n    </tr>\n    <tr>\n      <th>21755</th>\n      <td>Sumatera Barat</td>\n      <td>87605</td>\n    </tr>\n    <tr>\n      <th>21756</th>\n      <td>Sumatera Selatan</td>\n      <td>56830</td>\n    </tr>\n    <tr>\n      <th>21757</th>\n      <td>Sumatera Utara</td>\n      <td>103061</td>\n    </tr>\n    <tr>\n      <th>21758</th>\n      <td>Indonesia</td>\n      <td>4105680</td>\n    </tr>\n  </tbody>\n</table>\n<p>21759 rows × 2 columns</p>\n</div>"
     },
     "execution_count": 3,
     "metadata": {},
     "output_type": "execute_result"
    }
   ],
   "source": [
    "data = data[[\"Location\", \"Total Recovered\"]]\n",
    "data"
   ]
  },
  {
   "cell_type": "markdown",
   "metadata": {},
   "source": [
    "cek median, mean, modus dari data"
   ]
  },
  {
   "cell_type": "code",
   "execution_count": 4,
   "metadata": {},
   "outputs": [
    {
     "name": "stdout",
     "output_type": "stream",
     "text": [
      "Mean 76712.6024633485\n",
      "Median 8745.0\n",
      "Mode 0    0\n",
      "Name: Total Recovered, dtype: int64\n"
     ]
    }
   ],
   "source": [
    "print('Mean' , data['Total Recovered'].mean())\n",
    "print('Median' , data['Total Recovered'].median())\n",
    "print('Mode' , data['Total Recovered'].mode())"
   ]
  },
  {
   "cell_type": "markdown",
   "metadata": {},
   "source": [
    "## Skewness"
   ]
  },
  {
   "cell_type": "code",
   "execution_count": 5,
   "metadata": {},
   "outputs": [],
   "source": [
    "%matplotlib inline\n",
    "import pandas as pd\n",
    "import matplotlib.pyplot as plt\n",
    "import numpy as np\n",
    "import scipy.stats as stats"
   ]
  },
  {
   "cell_type": "markdown",
   "source": [],
   "metadata": {
    "collapsed": false
   }
  },
  {
   "cell_type": "code",
   "execution_count": 7,
   "outputs": [
    {
     "data": {
      "text/plain": "(array([2.096e+04, 3.820e+02, 1.510e+02, 7.400e+01, 4.600e+01, 1.300e+01,\n        1.100e+01, 9.000e+00, 1.500e+01, 9.800e+01]),\n array([      0.,  410568.,  821136., 1231704., 1642272., 2052840.,\n        2463408., 2873976., 3284544., 3695112., 4105680.]),\n <BarContainer object of 10 artists>)"
     },
     "execution_count": 7,
     "metadata": {},
     "output_type": "execute_result"
    },
    {
     "data": {
      "text/plain": "<Figure size 432x288 with 1 Axes>",
      "image/png": "[encoded data removed]"
     },
     "metadata": {
      "needs_background": "light"
     },
     "output_type": "display_data"
    }
   ],
   "source": [
    "plt.hist(data['Total Recovered'])"
   ],
   "metadata": {
    "collapsed": false,
    "pycharm": {
     "name": "#%%\n"
    }
   }
  },
  {
   "cell_type": "code",
   "execution_count": 6,
   "metadata": {},
   "outputs": [
    {
     "data": {
      "text/plain": "<Figure size 432x288 with 1 Axes>",
      "image/png": "[encoded data removed]"
     },
     "metadata": {
      "needs_background": "light"
     },
     "output_type": "display_data"
    }
   ],
   "source": [
    "recovered = data['Total Recovered']\n",
    "density = stats.gaussian_kde(recovered)\n",
    "n, x, _ = plt.hist(recovered, histtype='step', bins=25)  \n",
    "plt.plot(x, density(x)*5)\n",
    "plt.axvline(recovered.mean(), color='magenta', linestyle='dashed', linewidth=2)\n",
    "plt.axvline(recovered.median(), color='green', linestyle='dashed', linewidth=2)\n",
    "plt.show()"
   ]
  },
  {
   "cell_type": "code",
   "execution_count": 6,
   "metadata": {},
   "outputs": [],
   "source": []
  }
 ],
 "metadata": {
  "interpreter": {
   "hash": "07efdcd4b820c98a756949507a4d29d7862823915ec7477944641bea022f4f62"
  },
  "kernelspec": {
   "display_name": "Python 3.9.7 ('base')",
   "language": "python",
   "name": "python3"
  },
  "language_info": {
   "codemirror_mode": {
    "name": "ipython",
    "version": 3
   },
   "file_extension": ".py",
   "mimetype": "text/x-python",
   "name": "python",
   "nbconvert_exporter": "python",
   "pygments_lexer": "ipython3",
   "version": "3.9.7"
  },
  "orig_nbformat": 4
 },
 "nbformat": 4,
 "nbformat_minor": 2
}