{
 "cells": [
  {
   "cell_type": "markdown",
   "source": [
    "# Live Code Phase 0\n",
    "\n",
    "Nama : **Dafa Wiratama**\n",
    "Batch : **Batch 09 Data Science**"
   ],
   "metadata": {
    "collapsed": false
   }
  },
  {
   "cell_type": "markdown",
   "source": [
    "# Problems\n",
    "\n",
    "## Question 1:\n",
    "\n",
    "Perang sedang berkecamuk! Tentara negara kita ingin melakukan komunikasi ke sekutunya tanpa diketahui oleh negara musuh. Untuk itu, kamu diminta untuk mengubah pesan kalimat menjadi pesan transmisi.\n",
    "\n",
    "  Pesan yang ingin dikirim adalah: \"**Prepare to negotiate**\".\n",
    "\n",
    " ### Instruksi/Clue No. 1:\n",
    "  <ol type=\"a\">\n",
    "  <li> Mengubah sebuah pesan berupa kalimat ke kode/pesan transmisi yang berupa kumpulan angka disebut sebagai <i>encode</i> dan sebaliknya disebut <i>decode</i>. Cara untuk melakukan <i>encode</i> adalah dengan mengalikan matriks yang berisikan pesan kalimat dengan matriks encoder. </li>\n",
    "  <li> Konversikan tiap karakter pada pesan di atas ke dalam angka dan simpan ke dalam numpy array (Boleh pakai metode/teknik apapun). Contoh: A=1, Z=26, dan spasi=0. Untuk kalimat \"Siap bersedia\" akan terkonversi menjadi np.array([19,9,1,16,0,2,5,18,19,5,7,9,1]). </li>\n",
    "  <li> Numpy array yang masih berupa 1D-array (vektor) dapat diubah ke matriks (2-D array) dengan menggunakan method reshape (NumPy). (Ukuran matriks menyesuaikan dengan ukuran encode matriks sehingga bisa dikalikan). Matriks ini akan kita sebut sebagai <strong>matriks pesan</strong>. <strong><i>[Memenuhi Rubrik Penilaian Nomor 1a]</i></strong>. </li>\n",
    "  <li> Untuk mengkonversi kalimat ke kode transmisi, buatlah <strong>matriks encoder</strong> 4x4 berikut: </li>\n",
    "  <li> Kalikan <strong>matriks encoder</strong> yang telah ditentukan dengan <strong>matriks pesan</strong>. Tunjukkan bahwa pesan sudah berhasil di-encode (Perkalian dua matriks berhasil menghasilkan matriks baru yang kita namakan sebagai <strong>matriks transmisi</strong>). <strong><i>[Memenuhi Rubrik Penilaian Nomor 1b]</i></strong> </li>\n",
    "  <li> Agar menyakinkan apakah perhitungan kamu sudah benar, lakukan decode pesan yang sudah di-encode dengan cara mengalikan <strong>matriks transmisi</strong> dengan <strong>inverse matriks encoder</strong>, E. Hasil perkalian matriksnya akan kita sebut sebagai <strong>matriks decoded</strong> Tunjukkan bahwa matriks hasil decode sama dengan matriks pesan sebelum di-encode. (Kamu bisa pakai bantuan <i>np.allclose</i> untuk mengecek matriks decoded dengan matriks pesan sama atau tidak). </li>\n",
    "</ol>\n",
    "\n",
    "\n",
    "### Pertanyaan yang harus dijawab:\n",
    "1. Pada langkah c, berapa ukuran matriks yang pesan yang memungkinkan untuk dapat dikalikan dengan matriks encoder? dan mengapa jawabannya demikian? <strong><i>[Memenuhi Rubrik Penilaian Nomor 2a - 5 Pt]</i></strong>\n",
    "2. Apakah susunan perkalian yang benar antara **matriks pesan x matriks encoder** atau **matriks encoder x matriks pesan** sama saja? jika sama, mengapa? dan jika berbeda mengapa demikian dan susunan mana yang benar?<strong><i>[Memenuhi Rubrik Penilaian Nomor 2a - 5 Pt]</i></strong>\n",
    "3. Pada langkah f, untuk melakukan decoding, digunakan perkalian antara matriks transmisi dengan inverse matriks encoder dimana harapannya hasil perkaliannya menghasilkan matriks yang sama/mirip dengan matriks pesan. Mengapa mengalikan matriks transmisi dengan inverse matriks encoder dan mengapa tidak dengan matriks encoder biasa saja tanpa di-inverse?<strong><i>[Memenuhi Rubrik Penilaian Nomor 2a - 5 Pt]</i></strong>\n",
    "\n",
    "\n",
    "## Question 2:\n",
    "Dalam training data dengan model machine learning, salah satu metrik yang dapat dijadikan referensi untuk mengevaluasi kecocokan antara model dan data adalah ROC (Receiver Operating Charateristics) curve. ROC curve dibangun dari hubungan antara False Positive Rate/FPR (sumbu X) dan True Positive Rate/TPR (sumbu Y), masing-masing bernilai dari 0-1. Selain ROC Curve, kadangkala orang mengevaluasi model menggunakan ROC AUC score yang tidak lain adalah luas area di bawah kurva ROC. Untuk menghitung ROC AUC score, gunakan konsep integral.\n",
    "\n",
    "  Pada dataset yang tersedia, hitung nilai ROC AUC score untuk masing-masing model Random Forest Regressor dan Support Machine Regressor (SVR). Manakah yang terbaik? (Model terbaik adalah yang ROC Score nya paling besar dan mendekati 1). **SEBELUM MENYELESAIKAN PROBLEM DENGAN CODE, JAWAB PERTANYAAN DI BAWAH**.\n",
    "\n",
    " ### Pertanyaan yang harus dijawab:\n",
    " 1. Jenis integral apakah untuk menghitung luas area di bawah kurva ROC? mengapa demikian? <strong><i>[Memenuhi Rubrik Penilaian Nomor 2b - 5 Pt]</i></strong>\n",
    " 2. Untuk menyelesaikan persoalan menghitung ROC AUC score, metode apa yang kita pakai, simbolik atau numerik? apakah perlu pendefinisian fungsi matematis? <strong><i>[Memenuhi Rubrik Penilaian Nomor 2b - 5 Pt]</i></strong>\n"
   ],
   "metadata": {
    "collapsed": false
   }
  },
  {
   "cell_type": "markdown",
   "source": [
    "# Library Import"
   ],
   "metadata": {
    "collapsed": false
   }
  },
  {
   "cell_type": "code",
   "execution_count": 1,
   "outputs": [],
   "source": [
    "import numpy as np\n",
    "import pandas as pd\n",
    "from matplotlib import pyplot as plt"
   ],
   "metadata": {
    "collapsed": false,
    "pycharm": {
     "name": "#%%\n"
    }
   }
  },
  {
   "cell_type": "markdown",
   "source": [
    "## Answer\n",
    "### Question 1:\n",
    "#### Variable Declaration\n",
    "in this section we will declare all the variable that we will use in this problem.\n",
    "- message = this variable is the message that we will be sending to the receiver.\n",
    "- encrypt_key = this variable is the matrix 4x4 that we will use to encrypt the message.\n",
    "- decrypt_key = this variable is the inverse matrix from the encrypt_key."
   ],
   "metadata": {
    "collapsed": false
   }
  },
  {
   "cell_type": "code",
   "execution_count": 2,
   "outputs": [],
   "source": [
    "message = \"Prepare to negotiate\"\n",
    "\n",
    "encrypt_key = np.array([\n",
    "    [2, 1, 0, 4],\n",
    "    [3, 4, 2, 1],\n",
    "    [1, 1, 9, 0],\n",
    "    [0, 7, 8, 3]\n",
    "])\n",
    "\n",
    "decrypt_key = np.linalg.inv(encrypt_key)"
   ],
   "metadata": {
    "collapsed": false,
    "pycharm": {
     "name": "#%%\n"
    }
   }
  },
  {
   "cell_type": "markdown",
   "source": [
    "#### Function Definition\n",
    "after all variable are declared, we will define all the function that we will use in this problem.\n",
    "\n",
    "##### Frame Message\n",
    "this 2 function will be used to frame the message that we will be sending to the receiver.\n",
    "in this case we will be transforming the message into integer representation of the character then transforming it into 4xN matrix. and the second one is use to convert the matrix frame into string message"
   ],
   "metadata": {
    "collapsed": false
   }
  },
  {
   "cell_type": "code",
   "execution_count": 3,
   "outputs": [],
   "source": [
    "def message_to_frame(message: str):\n",
    "    frame = np.zeros((4, int(np.ceil(len(message) / 4))))\n",
    "    for i, c in enumerate(message):\n",
    "        frame[i % 4, i // 4] = ord(c)\n",
    "    return frame\n",
    "\n",
    "\n",
    "def frame_to_message(frame: np.ndarray):\n",
    "    message = \"\"\n",
    "    for i in range(frame.size):\n",
    "        c = round(frame[i % 4, i // 4])\n",
    "        if c != 0:\n",
    "            message += chr(c)\n",
    "    return message\n"
   ],
   "metadata": {
    "collapsed": false,
    "pycharm": {
     "name": "#%%\n"
    }
   }
  },
  {
   "cell_type": "markdown",
   "source": [
    "##### Encode-Decode Message\n",
    "and this function will be used to encode and decode the message.\n",
    "- encrypt\n",
    "this function will be used to encrypt the message by transforming the message into integer representation, transforming it into 4xN matrix. then calculate the dot product of the message and the encrypt_key to produce encrypted message.\n",
    "- decrypt\n",
    "this function will be use to decrypt the message by calculate the dot matrix of the encrypted message and the decrypt_key to produce the original frame then convert the frame into string message."
   ],
   "metadata": {
    "collapsed": false
   }
  },
  {
   "cell_type": "code",
   "execution_count": 4,
   "outputs": [],
   "source": [
    "def encrypt(message: str, key: np.ndarray) -> np.ndarray:\n",
    "    frame = message_to_frame(message)\n",
    "    return np.dot(key, frame)\n",
    "\n",
    "\n",
    "def decrypt(frame: np.ndarray, key: np.ndarray) -> np.ndarray:\n",
    "    frame = np.dot(key, frame)\n",
    "    return frame_to_message(frame)"
   ],
   "metadata": {
    "collapsed": false,
    "pycharm": {
     "name": "#%%\n"
    }
   }
  },
  {
   "cell_type": "markdown",
   "source": [
    "##### Summary\n",
    "after all variable and function are declared, we will try our algorithm to encrypt and decrypt the message.\n",
    "as we can see from this example bellow that the message will be encoded with encrypt key then decoded with the inverse of the encrypt key. to produce the original message."
   ],
   "metadata": {
    "collapsed": false
   }
  },
  {
   "cell_type": "code",
   "execution_count": 5,
   "metadata": {
    "collapsed": true
   },
   "outputs": [
    {
     "name": "stdout",
     "output_type": "stream",
     "text": [
      "Message: Prepare to negotiate\n",
      "\n",
      "Encrypt Key:\n",
      "[[2 1 0 4]\n",
      " [3 4 2 1]\n",
      " [1 1 9 0]\n",
      " [0 7 8 3]]\n",
      "\n",
      "Decrypt Key:\n",
      "[[ 0.06325707  0.25975774  0.09421265 -0.17092867]\n",
      " [-0.11170929  0.11574697 -0.12382234  0.11036339]\n",
      " [ 0.00538358 -0.04172275  0.11440108  0.00672948]\n",
      " [ 0.24629879 -0.15881561 -0.01615074  0.05787349]]\n",
      "\n",
      "Encrypted Message:\n",
      "[[ 722.  436.  783.  769.  711.]\n",
      " [1010.  981.  966. 1053. 1036.]\n",
      " [1103. 1120.  515. 1203. 1246.]\n",
      " [1942. 1702. 1363. 1957. 1910.]]\n",
      "\n",
      "Decrypted Message:\n",
      "Prepare to negotiate\n",
      "\n",
      "The Message Was Decoded Correctly: True\n"
     ]
    }
   ],
   "source": [
    "\n",
    "print(f\"Message: {message}\")\n",
    "\n",
    "print(f\"\\nEncrypt Key:\\n{encrypt_key}\")\n",
    "print(f\"\\nDecrypt Key:\\n{decrypt_key}\")\n",
    "\n",
    "encrypted_message = encrypt(message, encrypt_key)\n",
    "decrypted_message = decrypt(encrypted_message, decrypt_key)\n",
    "\n",
    "print(f\"\\nEncrypted Message:\\n{encrypted_message}\")\n",
    "print(f\"\\nDecrypted Message:\\n{decrypted_message}\")\n",
    "\n",
    "print(f\"\\nThe Message Was Decoded Correctly: {message == decrypted_message}\")"
   ]
  },
  {
   "cell_type": "markdown",
   "source": [
    "### Question :\n",
    "1. Pada langkah c, berapa ukuran matriks yang pesan yang memungkinkan untuk dapat dikalikan dengan matriks encoder? dan mengapa jawabannya demikian? [Memenuhi Rubrik Penilaian Nomor 2a - 5 Pt]\n",
    "2. Apakah susunan perkalian yang benar antara matriks pesan x matriks encoder atau matriks encoder x matriks pesan sama saja? jika sama, mengapa? dan jika berbeda mengapa demikian dan susunan mana yang benar?[Memenuhi Rubrik Penilaian Nomor 2a - 5 Pt]\n",
    "3. Pada langkah f, untuk melakukan decoding, digunakan perkalian antara matriks transmisi dengan inverse matriks encoder dimana harapannya hasil perkaliannya menghasilkan matriks yang sama/mirip dengan matriks pesan. Mengapa mengalikan matriks transmisi dengan inverse matriks encoder dan mengapa tidak dengan matriks encoder biasa saja tanpa di-inverse?[Memenuhi Rubrik Penilaian Nomor 2a - 5 Pt]"
   ],
   "metadata": {
    "collapsed": false
   }
  },
  {
   "cell_type": "markdown",
   "source": [
    "#### Answer :\n",
    "1. Ukuran matriks yang memungkinkan untuk dapat dikalikan dengan matriks encoder adalah 4xN. karena susuari dengan peraturan perkalian Matrix,\n",
    "Baris ukuran baris Matrix A haruslah sama dengan kolom dari matrix yang lain ((N,A) * (B,N)).\n",
    "2. Susunan dari Perkalian Matrix Sangatlah berpengaruh terhadap hasil perkalian Matrix (AB != BA).\n",
    "karena kolom Matrix A haruslah sama dengan baris dari matrix yang lain ((N,A) * (B,N)). dan juga nilai dari perkalian tersebut tidak lah sama jika dibalik saat kondisi pertama terpenuhi.\n",
    "3. karena sesuai dengan peraturan perkalian matrix untuk mendapatkan nilai asal A dari perkalian Matrix AB maka kita diharuskan untuk mencari inverse dari Matrix B. untuk medapatkan nilai A dari hasil per kalian CB\n",
    "- A : Pesan\n",
    "- B : Encoder\n",
    "- C : Transmisi"
   ],
   "metadata": {
    "collapsed": false
   }
  },
  {
   "cell_type": "markdown",
   "source": [
    "### Question 2:\n",
    "1. Jenis integral apakah untuk menghitung luas area di bawah kurva ROC? mengapa demikian? [Memenuhi Rubrik Penilaian Nomor 2b - 5 Pt]\n",
    "2. Untuk menyelesaikan persoalan menghitung ROC AUC score, metode apa yang kita pakai, simbolik atau numerik? apakah perlu pendefinisian fungsi matematis? [Memenuhi Rubrik Penilaian Nomor 2b - 5 Pt]\n",
    "\n",
    "#### Answer :\n",
    "1. Integral dari fungsi ROC adalah luas area di bawah kurva ROC yang dapat dihitung dengan metode trapezoidal.\n",
    "2. Metode trapezoidal untuk menghitung luas area di bawah kurva ROC. kita menggunakan perhitungan numerical karena nilai yang kita ketahui merupakan nilai interpolasi dari fungsi aslinya. bukan nilai yang dapat diketahui secara matematis (D = A * B + C)."
   ],
   "metadata": {
    "collapsed": false
   }
  },
  {
   "cell_type": "markdown",
   "source": [
    "#### Dataset Preparation\n",
    "in this section we will be loading the dataset from URL and from the dataset we can see that there are 4 columns.\n",
    "1. svr_fpr : false positive rate of support vector machine\n",
    "2. svr_tpr : true positive rate of support vector machine\n",
    "3. rfr_fpr : false positive rate of random forest\n",
    "4. rfr_tpr : true positive rate of random forest"
   ],
   "metadata": {
    "collapsed": false
   }
  },
  {
   "cell_type": "code",
   "execution_count": 6,
   "outputs": [
    {
     "data": {
      "text/plain": "    svr_fpr   svr_tpr   rfr_fpr   rfr_tpr\n0  0.000000  0.000000  0.000000  0.000000\n1  0.000000  0.015152  0.000000  0.030303\n2  0.004831  0.030303  0.000000  0.060606\n3  0.009662  0.030303  0.000000  0.106061\n4  0.012077  0.045455  0.002415  0.121212",
      "text/html": "<div>\n<style scoped>\n    .dataframe tbody tr th:only-of-type {\n        vertical-align: middle;\n    }\n\n    .dataframe tbody tr th {\n        vertical-align: top;\n    }\n\n    .dataframe thead th {\n        text-align: right;\n    }\n</style>\n<table border=\"1\" class=\"dataframe\">\n  <thead>\n    <tr style=\"text-align: right;\">\n      <th></th>\n      <th>svr_fpr</th>\n      <th>svr_tpr</th>\n      <th>rfr_fpr</th>\n      <th>rfr_tpr</th>\n    </tr>\n  </thead>\n  <tbody>\n    <tr>\n      <th>0</th>\n      <td>0.000000</td>\n      <td>0.000000</td>\n      <td>0.000000</td>\n      <td>0.000000</td>\n    </tr>\n    <tr>\n      <th>1</th>\n      <td>0.000000</td>\n      <td>0.015152</td>\n      <td>0.000000</td>\n      <td>0.030303</td>\n    </tr>\n    <tr>\n      <th>2</th>\n      <td>0.004831</td>\n      <td>0.030303</td>\n      <td>0.000000</td>\n      <td>0.060606</td>\n    </tr>\n    <tr>\n      <th>3</th>\n      <td>0.009662</td>\n      <td>0.030303</td>\n      <td>0.000000</td>\n      <td>0.106061</td>\n    </tr>\n    <tr>\n      <th>4</th>\n      <td>0.012077</td>\n      <td>0.045455</td>\n      <td>0.002415</td>\n      <td>0.121212</td>\n    </tr>\n  </tbody>\n</table>\n</div>"
     },
     "execution_count": 6,
     "metadata": {},
     "output_type": "execute_result"
    }
   ],
   "source": [
    "url = \"https://raw.githubusercontent.com/fahmimnalfrzki/Dataset/main/ROC%20Curve%20SVR%20-%20Random%20Forest.csv?token=AEZDEHVS66CKQBUSHKZ534TA44EVO\"\n",
    "df = pd.read_csv(url, index_col=0)\n",
    "df.head()"
   ],
   "metadata": {
    "collapsed": false,
    "pycharm": {
     "name": "#%%\n"
    }
   }
  },
  {
   "cell_type": "markdown",
   "source": [
    "#### Visualization\n",
    "in this section we will be visualizing the dataset using matplotlib.\n",
    "ROC curve is a graph that shows the true positive rate (TPR) and false positive rate (FPR) for each method."
   ],
   "metadata": {
    "collapsed": false
   }
  },
  {
   "cell_type": "code",
   "execution_count": 7,
   "outputs": [
    {
     "data": {
      "text/plain": "<Figure size 864x432 with 2 Axes>",
      "image/png": "[encoded data removed]"
     },
     "metadata": {
      "needs_background": "light"
     },
     "output_type": "display_data"
    }
   ],
   "source": [
    "fig, ax = plt.subplots(1, 2, figsize=(12, 6), sharey=True)\n",
    "\n",
    "ax[0].plot(df['rfr_fpr'], df['rfr_tpr'])\n",
    "ax[0].set_title('ROC Curve - Random Forest')\n",
    "ax[1].plot(df['svr_fpr'], df['svr_tpr'], label='ROC Curve - Support Vector Machine')\n",
    "ax[1].set_title('ROC Curve - Support Vector Machine');"
   ],
   "metadata": {
    "collapsed": false,
    "pycharm": {
     "name": "#%%\n"
    }
   }
  },
  {
   "cell_type": "markdown",
   "source": [
    "#### Conclusion :\n",
    "from the visualization we can see that the ROC curve of random forest is better than the ROC curve of support vector machine.\n",
    "so the random forest is the best model for this problem.\n",
    "\n",
    "###### Question 3:\n",
    "Manakan model yang terbaik berdasarkan hasil perhitungan ROC AUC score? jelaskan mengapa! [Memenuhi Rubrik Penilaian Nomor 2b - 5 Pt]\n",
    "- Random Forest"
   ],
   "metadata": {
    "collapsed": false
   }
  },
  {
   "cell_type": "code",
   "execution_count": 8,
   "outputs": [
    {
     "name": "stdout",
     "output_type": "stream",
     "text": [
      "Support Vector Machine Score :  0.8817889035280342\n",
      "Random Forest Score :  0.9160262040696824\n"
     ]
    }
   ],
   "source": [
    "support_vector_score = np.trapz(df[\"svr_tpr\"], df[\"svr_fpr\"])\n",
    "random_forest_score = np.trapz(df[\"rfr_tpr\"], df[\"rfr_fpr\"])\n",
    "\n",
    "print(\"Support Vector Machine Score : \", support_vector_score)\n",
    "print(\"Random Forest Score : \", random_forest_score)"
   ],
   "metadata": {
    "collapsed": false,
    "pycharm": {
     "name": "#%%\n"
    }
   }
  }
 ],
 "metadata": {
  "kernelspec": {
   "display_name": "Python 3",
   "language": "python",
   "name": "python3"
  },
  "language_info": {
   "codemirror_mode": {
    "name": "ipython",
    "version": 2
   },
   "file_extension": ".py",
   "mimetype": "text/x-python",
   "name": "python",
   "nbconvert_exporter": "python",
   "pygments_lexer": "ipython2",
   "version": "2.7.6"
  }
 },
 "nbformat": 4,
 "nbformat_minor": 0
}