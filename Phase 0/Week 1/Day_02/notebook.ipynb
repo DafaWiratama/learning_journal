{
 "cells": [
  {
   "cell_type": "code",
   "execution_count": null,
   "metadata": {
    "collapsed": true,
    "pycharm": {
     "is_executing": true
    }
   },
   "outputs": [],
   "source": [
    "n = 1\n",
    "\n",
    "if n % 2 == 0:\n",
    "    print(\"Genap\")\n",
    "else:\n",
    "    print(\"Non Graded Challenge\")"
   ]
  },
  {
   "cell_type": "code",
   "execution_count": 9,
   "outputs": [
    {
     "name": "stdout",
     "output_type": "stream",
     "text": [
      "n lebih dari 10\n"
     ]
    }
   ],
   "source": [
    "\n",
    "n = 11\n",
    "if n == 10:\n",
    "    print(\"n sama dengan 10\")\n",
    "elif n > 10:\n",
    "    print(\"n lebih dari 10\")\n",
    "else:\n",
    "    print(\"n lebih dari 10\")"
   ],
   "metadata": {
    "collapsed": false,
    "pycharm": {
     "name": "#%%\n"
    }
   }
  },
  {
   "cell_type": "code",
   "execution_count": 12,
   "outputs": [],
   "source": [
    "list = [\"jeruk\", \"pisang\"]\n",
    "\n",
    "if len(list) > 3:\n",
    "    if \"jeruk\" in list:\n",
    "        print(\"ada jeruk\")\n",
    "    else:\n",
    "        print(\"tidak ada jeruk\")\n",
    "    print(\"saya tidak datang ke tukang buah\")"
   ],
   "metadata": {
    "collapsed": false,
    "pycharm": {
     "name": "#%%\n"
    }
   }
  },
  {
   "cell_type": "code",
   "execution_count": 14,
   "outputs": [
    {
     "ename": "TypeError",
     "evalue": "'int' object is not callable",
     "output_type": "error",
     "traceback": [
      "\u001B[1;31m---------------------------------------------------------------------------\u001B[0m",
      "\u001B[1;31mTypeError\u001B[0m                                 Traceback (most recent call last)",
      "Input \u001B[1;32mIn [14]\u001B[0m, in \u001B[0;36m<module>\u001B[1;34m\u001B[0m\n\u001B[1;32m----> 1\u001B[0m score \u001B[38;5;241m=\u001B[39m \u001B[38;5;28;43minput\u001B[39;49m\u001B[43m(\u001B[49m\u001B[38;5;124;43m\"\u001B[39;49m\u001B[38;5;124;43mMasukkan nilai: \u001B[39;49m\u001B[38;5;124;43m\"\u001B[39;49m\u001B[43m)\u001B[49m\n\u001B[0;32m      3\u001B[0m \u001B[38;5;28;01mif\u001B[39;00m score\u001B[38;5;241m.\u001B[39misnumeric():\n\u001B[0;32m      4\u001B[0m     score \u001B[38;5;241m=\u001B[39m \u001B[38;5;28mfloat\u001B[39m(score)\n",
      "\u001B[1;31mTypeError\u001B[0m: 'int' object is not callable"
     ]
    }
   ],
   "source": [
    "score = input(\"Masukkan nilai: \")\n",
    "\n",
    "if score.isnumeric():\n",
    "    score = float(score)\n",
    "\n",
    "    if score < 0 or score > 100:\n",
    "        toReturn = \"Nilai Invalid\"\n",
    "    elif score >= 80:\n",
    "        toReturn = \"Nilai A\"\n",
    "    elif score >= 65:\n",
    "        toReturn = \"Nilai B\"\n",
    "    elif score >= 40:\n",
    "        toReturn = \"Nilai C\"\n",
    "    elif score >= 20:\n",
    "        toReturn = \"Nilai D\"\n",
    "    else:\n",
    "        toReturn = \"Nilai E\"\n",
    "else:\n",
    "    toReturn = \"Nilai harus berupa angka\"\n",
    "\n",
    "print(toReturn)"
   ],
   "metadata": {
    "collapsed": false,
    "pycharm": {
     "name": "#%%\n"
    }
   }
  },
  {
   "cell_type": "code",
   "execution_count": null,
   "outputs": [],
   "source": [
    "orders = []\n",
    "\n",
    "while True:\n",
    "    order = input(\"Masukkan order: \")\n",
    "    if order == \"cukup\":\n",
    "        break\n",
    "    orders.append(order)\n",
    "\n",
    "print(orders)"
   ],
   "metadata": {
    "collapsed": false,
    "pycharm": {
     "name": "#%%\n"
    }
   }
  },
  {
   "cell_type": "code",
   "execution_count": null,
   "outputs": [],
   "source": [
    "a = 1\n",
    "while a <= 10:\n",
    "    b = 1\n",
    "\n",
    "    while b <= 10:\n",
    "        print(f\"{a} x {b} = {a * b}\")\n",
    "        b += 1\n",
    "    print(\"*\" * 64)\n",
    "    a += 1\n",
    "\n",
    "\n",
    "sellers = [\"pepaya\", \"mangga\", \"pisang\", \"jambu\"]\n",
    "\n",
    "for i, seller in enumerate(sellers):\n",
    "    print(i, seller)"
   ],
   "metadata": {
    "collapsed": false,
    "pycharm": {
     "name": "#%%\n"
    }
   }
  },
  {
   "cell_type": "code",
   "execution_count": null,
   "outputs": [],
   "source": [
    "n_a, n_b = 10, 10\n",
    "\n",
    "for a in range(1, n_a + 1):\n",
    "    for b in range(1, n_b + 1):\n",
    "        print(f\"{a} x {b} = {a * b}\")\n",
    "    print(\"*\" * 64)"
   ],
   "metadata": {
    "collapsed": false,
    "pycharm": {
     "name": "#%%\n"
    }
   }
  }
 ],
 "metadata": {
  "kernelspec": {
   "display_name": "Python 3",
   "language": "python",
   "name": "python3"
  },
  "language_info": {
   "codemirror_mode": {
    "name": "ipython",
    "version": 2
   },
   "file_extension": ".py",
   "mimetype": "text/x-python",
   "name": "python",
   "nbconvert_exporter": "python",
   "pygments_lexer": "ipython2",
   "version": "2.7.6"
  }
 },
 "nbformat": 4,
 "nbformat_minor": 0
}