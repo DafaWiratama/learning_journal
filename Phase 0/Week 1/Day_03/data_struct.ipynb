{
 "cells": [
  {
   "cell_type": "markdown",
   "source": [
    "# Data Structure\n",
    "- tuple -> ()\n",
    "    dia immutables sekali di deklarasi tidak bisa diubah\n",
    "- list -> []\n",
    "    dia mirip seperti tuple tapi bisa diubah (mutables)\n",
    "- dict -> {}\n",
    "    dia mirip seperti list tapi punya pasangan (key, value)"
   ],
   "metadata": {
    "collapsed": false
   }
  },
  {
   "cell_type": "markdown",
   "source": [
    "# Tuples\n",
    "kalau si data berkemungkinan besar tidak akan diubah, maka kita bisa deklarasikan sebagai tuple"
   ],
   "metadata": {
    "collapsed": false
   }
  },
  {
   "cell_type": "code",
   "execution_count": 4,
   "metadata": {
    "collapsed": true
   },
   "outputs": [
    {
     "name": "stdout",
     "output_type": "stream",
     "text": [
      "(1, 2, 3)\n"
     ]
    }
   ],
   "source": [
    "_tuple = (1, 2, 3)\n",
    "print(_tuple)"
   ]
  },
  {
   "cell_type": "markdown",
   "source": [
    "kalau tuple di ubah dia bakal error\n",
    "`TypeError: 'tuple' object does not support item assignment`\n",
    "karena memang sifat dasarnya dia immutable (tidak dapat di ubah)"
   ],
   "metadata": {
    "collapsed": false
   }
  },
  {
   "cell_type": "code",
   "execution_count": 3,
   "outputs": [
    {
     "ename": "TypeError",
     "evalue": "'tuple' object does not support item assignment",
     "output_type": "error",
     "traceback": [
      "\u001B[1;31m---------------------------------------------------------------------------\u001B[0m",
      "\u001B[1;31mTypeError\u001B[0m                                 Traceback (most recent call last)",
      "Input \u001B[1;32mIn [3]\u001B[0m, in \u001B[0;36m<module>\u001B[1;34m\u001B[0m\n\u001B[1;32m----> 1\u001B[0m _tuple[\u001B[38;5;241m0\u001B[39m] \u001B[38;5;241m=\u001B[39m \u001B[38;5;241m4\u001B[39m\n\u001B[0;32m      2\u001B[0m \u001B[38;5;28mprint\u001B[39m(_tuple)\n",
      "\u001B[1;31mTypeError\u001B[0m: 'tuple' object does not support item assignment"
     ]
    }
   ],
   "source": [
    "_tuple[0] = 4\n",
    "print(_tuple)"
   ],
   "metadata": {
    "collapsed": false,
    "pycharm": {
     "name": "#%%\n"
    }
   }
  },
  {
   "cell_type": "markdown",
   "source": [
    "# List\n",
    "dia cocok digunain buat nyimpen data yang berderet dan kemungkinan datanya berubah bisa element nya berubah bisa juga jumlah datanya di tambah / dikurang"
   ],
   "metadata": {
    "collapsed": false
   }
  },
  {
   "cell_type": "code",
   "execution_count": 5,
   "outputs": [
    {
     "name": "stdout",
     "output_type": "stream",
     "text": [
      "[1, 2, 3]\n"
     ]
    }
   ],
   "source": [
    "_list = [1, 2, 3]\n",
    "print(_list)"
   ],
   "metadata": {
    "collapsed": false,
    "pycharm": {
     "name": "#%%\n"
    }
   }
  },
  {
   "cell_type": "markdown",
   "source": [
    "## Element Re-assignment\n",
    "kalau list dia bisa di udah (re-assign)"
   ],
   "metadata": {
    "collapsed": false
   }
  },
  {
   "cell_type": "code",
   "execution_count": 6,
   "outputs": [
    {
     "name": "stdout",
     "output_type": "stream",
     "text": [
      "[4, 2, 3]\n"
     ]
    }
   ],
   "source": [
    "_list[0] = 4\n",
    "print(_list)"
   ],
   "metadata": {
    "collapsed": false,
    "pycharm": {
     "name": "#%%\n"
    }
   }
  },
  {
   "cell_type": "markdown",
   "source": [
    "## Element Addition & Subtraction"
   ],
   "metadata": {
    "collapsed": false
   }
  },
  {
   "cell_type": "code",
   "execution_count": 23,
   "outputs": [
    {
     "name": "stdout",
     "output_type": "stream",
     "text": [
      "[1, 2, 3]\n",
      "[1, 2, 3, 4]\n"
     ]
    }
   ],
   "source": [
    "_list = [1, 2, 3]\n",
    "\n",
    "print(_list)\n",
    "_list.append(4)\n",
    "print(_list)"
   ],
   "metadata": {
    "collapsed": false,
    "pycharm": {
     "name": "#%%\n"
    }
   }
  },
  {
   "cell_type": "code",
   "source": [
    "_list = [1, 2, 3]\n",
    "\n",
    "print(_list)\n",
    "del _list[-1] # delete element terakhir dari list (-1)\n",
    "print(_list)"
   ],
   "metadata": {
    "collapsed": false,
    "pycharm": {
     "name": "#%%\n"
    }
   },
   "execution_count": 24,
   "outputs": [
    {
     "name": "stdout",
     "output_type": "stream",
     "text": [
      "[1, 2, 3]\n",
      "[1, 2]\n"
     ]
    }
   ]
  },
  {
   "cell_type": "markdown",
   "source": [
    "### List Accessor"
   ],
   "metadata": {
    "collapsed": false
   }
  },
  {
   "cell_type": "code",
   "execution_count": 7,
   "outputs": [
    {
     "name": "stdout",
     "output_type": "stream",
     "text": [
      "4\n",
      "[5, 2, 3]\n"
     ]
    }
   ],
   "source": [
    "# Cara Akses Isi List (getter)\n",
    "print(_list[0])\n",
    "\n",
    "# Cara Re-assign Isi List (setter)\n",
    "_list[0] = 5\n",
    "print(_list)"
   ],
   "metadata": {
    "collapsed": false,
    "pycharm": {
     "name": "#%%\n"
    }
   }
  },
  {
   "cell_type": "markdown",
   "source": [
    "# Dictionary\n",
    "dia biasanya digunakan untuk menyimpan data yang punya key / label\n",
    "kayak KTP dia punya nomor KTP, nama, alamat, dan lain-lain\n",
    "jadi kalau misal di akses kita cuman perlu mengetahui keynya"
   ],
   "metadata": {
    "collapsed": false
   }
  },
  {
   "cell_type": "code",
   "execution_count": 9,
   "outputs": [
    {
     "name": "stdout",
     "output_type": "stream",
     "text": [
      "John\n",
      "{'name': 'Jane', 'age': 30, 'is_married': False}\n"
     ]
    }
   ],
   "source": [
    "_dict = {'name': 'John', 'age': 30, 'is_married': False}\n",
    "\n",
    "# Cara Akses Isi Dictionary (getter)\n",
    "# dict_name['key']\n",
    "\n",
    "print(_dict['name'])\n",
    "\n",
    "# Cara Re-assign Isi Dictionary (setter)\n",
    "_dict['name'] = 'Jane'\n",
    "print(_dict)"
   ],
   "metadata": {
    "collapsed": false,
    "pycharm": {
     "name": "#%%\n"
    }
   }
  },
  {
   "cell_type": "markdown",
   "source": [
    "# List of Dictionaries\n",
    "Kalau data yang di gunain terdiri dari beberapa dictionary maka dia bisa di masukan ke dalam list"
   ],
   "metadata": {
    "collapsed": false
   }
  },
  {
   "cell_type": "code",
   "execution_count": 12,
   "outputs": [
    {
     "name": "stdout",
     "output_type": "stream",
     "text": [
      "{'name': 'John', 'age': 30, 'is_married': False}\n",
      "John\n"
     ]
    }
   ],
   "source": [
    "ktps = [\n",
    "    {'name': 'John', 'age': 30, 'is_married': False},\n",
    "    {'name': 'Jane', 'age': 32, 'is_married': True},\n",
    "    {'name': 'Mark', 'age': 35, 'is_married': True}\n",
    "]\n",
    "\n",
    "# jadi cara akses nya di lihat dari kurung pertamanya (list) di ikuti kurung kedua (dict)\n",
    "# contoh akses list nya\n",
    "print(ktps[0])\n",
    "\n",
    "# Contoh akses list berserta dict nya\n",
    "print(ktps[0]['name'])\n"
   ],
   "metadata": {
    "collapsed": false,
    "pycharm": {
     "name": "#%%\n"
    }
   }
  },
  {
   "cell_type": "markdown",
   "source": [
    "# Kasus Aneh"
   ],
   "metadata": {
    "collapsed": false
   }
  },
  {
   "cell_type": "code",
   "execution_count": 19,
   "outputs": [
    {
     "name": "stdout",
     "output_type": "stream",
     "text": [
      "name           John\n",
      "age              30\n",
      "is_married    False\n",
      "Name: 0, dtype: object\n",
      "John\n"
     ]
    }
   ],
   "source": [
    "import pandas as pd\n",
    "\n",
    "# Kalau Pake Pandas kita bisa membuat dataframe dengan list of dict\n",
    "df = pd.DataFrame([\n",
    "    {'name': 'John', 'age': 30, 'is_married': False},\n",
    "    {'name': 'Jane', 'age': 32, 'is_married': True},\n",
    "    {'name': 'Mark', 'age': 35, 'is_married': True}\n",
    "])\n",
    "\n",
    "# Cara Akses nya beda dengan list atau numpy array\n",
    "# dia bisa pake df.loc / df.iloc (index locator)\n",
    "\n",
    "# misal kita mau ambil data baris ke-1 dari dataframe\n",
    "print(df.iloc[0])\n",
    "\n",
    "# atau kita mau ambil data nama dari dataframe\n",
    "print(df.loc[0, 'name'])\n",
    "# ini dia yang aneh yang biasanya kita pake variable[] di isi dengan index sekarang dia diisi angka dan string\n",
    "# bukan aneh tapi ini feature dari pandas biar memudahkan kita akses data aja"
   ],
   "metadata": {
    "collapsed": false,
    "pycharm": {
     "name": "#%%\n"
    }
   }
  },
  {
   "cell_type": "markdown",
   "source": [],
   "metadata": {
    "collapsed": false
   }
  }
 ],
 "metadata": {
  "kernelspec": {
   "display_name": "Python 3",
   "language": "python",
   "name": "python3"
  },
  "language_info": {
   "codemirror_mode": {
    "name": "ipython",
    "version": 2
   },
   "file_extension": ".py",
   "mimetype": "text/x-python",
   "name": "python",
   "nbconvert_exporter": "python",
   "pygments_lexer": "ipython2",
   "version": "2.7.6"
  }
 },
 "nbformat": 4,
 "nbformat_minor": 0
}